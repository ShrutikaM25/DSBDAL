{
  "nbformat": 4,
  "nbformat_minor": 0,
  "metadata": {
    "colab": {
      "provenance": []
    },
    "kernelspec": {
      "name": "python3",
      "display_name": "Python 3"
    },
    "language_info": {
      "name": "python"
    }
  },
  "cells": [
    {
      "cell_type": "code",
      "execution_count": null,
      "metadata": {
        "id": "kEcrFilx8brf"
      },
      "outputs": [],
      "source": [
        "import pandas as pd\n",
        "import seaborn as sns"
      ]
    },
    {
      "cell_type": "code",
      "source": [
        "df = pd.read_csv('nba.csv')\n",
        "df"
      ],
      "metadata": {
        "colab": {
          "base_uri": "https://localhost:8080/",
          "height": 424
        },
        "id": "eNn0hNg18uR_",
        "outputId": "dd8bd347-e0b0-443e-eaf7-ba600fb69750"
      },
      "execution_count": null,
      "outputs": [
        {
          "output_type": "execute_result",
          "data": {
            "text/plain": [
              "              Name            Team  Number Position   Age Height  Weight  \\\n",
              "0    Avery Bradley  Boston Celtics     0.0       PG  25.0    6-2   180.0   \n",
              "1      Jae Crowder  Boston Celtics    99.0       SF  25.0    6-6   235.0   \n",
              "2     John Holland  Boston Celtics    30.0       SG  27.0    6-5   205.0   \n",
              "3      R.J. Hunter  Boston Celtics    28.0       SG  22.0    6-5   185.0   \n",
              "4    Jonas Jerebko  Boston Celtics     8.0       PF  29.0   6-10   231.0   \n",
              "..             ...             ...     ...      ...   ...    ...     ...   \n",
              "453   Shelvin Mack       Utah Jazz     8.0       PG  26.0    6-3   203.0   \n",
              "454      Raul Neto       Utah Jazz    25.0       PG  24.0    6-1   179.0   \n",
              "455   Tibor Pleiss       Utah Jazz    21.0        C  26.0    7-3   256.0   \n",
              "456    Jeff Withey       Utah Jazz    24.0        C  26.0    7-0   231.0   \n",
              "457            NaN             NaN     NaN      NaN   NaN    NaN     NaN   \n",
              "\n",
              "               College     Salary  \n",
              "0                Texas  7730337.0  \n",
              "1            Marquette  6796117.0  \n",
              "2    Boston University        NaN  \n",
              "3        Georgia State  1148640.0  \n",
              "4                  NaN  5000000.0  \n",
              "..                 ...        ...  \n",
              "453             Butler  2433333.0  \n",
              "454                NaN   900000.0  \n",
              "455                NaN  2900000.0  \n",
              "456             Kansas   947276.0  \n",
              "457                NaN        NaN  \n",
              "\n",
              "[458 rows x 9 columns]"
            ],
            "text/html": [
              "\n",
              "  <div id=\"df-9298840f-4fe2-4b16-9ee5-37f322512d81\" class=\"colab-df-container\">\n",
              "    <div>\n",
              "<style scoped>\n",
              "    .dataframe tbody tr th:only-of-type {\n",
              "        vertical-align: middle;\n",
              "    }\n",
              "\n",
              "    .dataframe tbody tr th {\n",
              "        vertical-align: top;\n",
              "    }\n",
              "\n",
              "    .dataframe thead th {\n",
              "        text-align: right;\n",
              "    }\n",
              "</style>\n",
              "<table border=\"1\" class=\"dataframe\">\n",
              "  <thead>\n",
              "    <tr style=\"text-align: right;\">\n",
              "      <th></th>\n",
              "      <th>Name</th>\n",
              "      <th>Team</th>\n",
              "      <th>Number</th>\n",
              "      <th>Position</th>\n",
              "      <th>Age</th>\n",
              "      <th>Height</th>\n",
              "      <th>Weight</th>\n",
              "      <th>College</th>\n",
              "      <th>Salary</th>\n",
              "    </tr>\n",
              "  </thead>\n",
              "  <tbody>\n",
              "    <tr>\n",
              "      <th>0</th>\n",
              "      <td>Avery Bradley</td>\n",
              "      <td>Boston Celtics</td>\n",
              "      <td>0.0</td>\n",
              "      <td>PG</td>\n",
              "      <td>25.0</td>\n",
              "      <td>6-2</td>\n",
              "      <td>180.0</td>\n",
              "      <td>Texas</td>\n",
              "      <td>7730337.0</td>\n",
              "    </tr>\n",
              "    <tr>\n",
              "      <th>1</th>\n",
              "      <td>Jae Crowder</td>\n",
              "      <td>Boston Celtics</td>\n",
              "      <td>99.0</td>\n",
              "      <td>SF</td>\n",
              "      <td>25.0</td>\n",
              "      <td>6-6</td>\n",
              "      <td>235.0</td>\n",
              "      <td>Marquette</td>\n",
              "      <td>6796117.0</td>\n",
              "    </tr>\n",
              "    <tr>\n",
              "      <th>2</th>\n",
              "      <td>John Holland</td>\n",
              "      <td>Boston Celtics</td>\n",
              "      <td>30.0</td>\n",
              "      <td>SG</td>\n",
              "      <td>27.0</td>\n",
              "      <td>6-5</td>\n",
              "      <td>205.0</td>\n",
              "      <td>Boston University</td>\n",
              "      <td>NaN</td>\n",
              "    </tr>\n",
              "    <tr>\n",
              "      <th>3</th>\n",
              "      <td>R.J. Hunter</td>\n",
              "      <td>Boston Celtics</td>\n",
              "      <td>28.0</td>\n",
              "      <td>SG</td>\n",
              "      <td>22.0</td>\n",
              "      <td>6-5</td>\n",
              "      <td>185.0</td>\n",
              "      <td>Georgia State</td>\n",
              "      <td>1148640.0</td>\n",
              "    </tr>\n",
              "    <tr>\n",
              "      <th>4</th>\n",
              "      <td>Jonas Jerebko</td>\n",
              "      <td>Boston Celtics</td>\n",
              "      <td>8.0</td>\n",
              "      <td>PF</td>\n",
              "      <td>29.0</td>\n",
              "      <td>6-10</td>\n",
              "      <td>231.0</td>\n",
              "      <td>NaN</td>\n",
              "      <td>5000000.0</td>\n",
              "    </tr>\n",
              "    <tr>\n",
              "      <th>...</th>\n",
              "      <td>...</td>\n",
              "      <td>...</td>\n",
              "      <td>...</td>\n",
              "      <td>...</td>\n",
              "      <td>...</td>\n",
              "      <td>...</td>\n",
              "      <td>...</td>\n",
              "      <td>...</td>\n",
              "      <td>...</td>\n",
              "    </tr>\n",
              "    <tr>\n",
              "      <th>453</th>\n",
              "      <td>Shelvin Mack</td>\n",
              "      <td>Utah Jazz</td>\n",
              "      <td>8.0</td>\n",
              "      <td>PG</td>\n",
              "      <td>26.0</td>\n",
              "      <td>6-3</td>\n",
              "      <td>203.0</td>\n",
              "      <td>Butler</td>\n",
              "      <td>2433333.0</td>\n",
              "    </tr>\n",
              "    <tr>\n",
              "      <th>454</th>\n",
              "      <td>Raul Neto</td>\n",
              "      <td>Utah Jazz</td>\n",
              "      <td>25.0</td>\n",
              "      <td>PG</td>\n",
              "      <td>24.0</td>\n",
              "      <td>6-1</td>\n",
              "      <td>179.0</td>\n",
              "      <td>NaN</td>\n",
              "      <td>900000.0</td>\n",
              "    </tr>\n",
              "    <tr>\n",
              "      <th>455</th>\n",
              "      <td>Tibor Pleiss</td>\n",
              "      <td>Utah Jazz</td>\n",
              "      <td>21.0</td>\n",
              "      <td>C</td>\n",
              "      <td>26.0</td>\n",
              "      <td>7-3</td>\n",
              "      <td>256.0</td>\n",
              "      <td>NaN</td>\n",
              "      <td>2900000.0</td>\n",
              "    </tr>\n",
              "    <tr>\n",
              "      <th>456</th>\n",
              "      <td>Jeff Withey</td>\n",
              "      <td>Utah Jazz</td>\n",
              "      <td>24.0</td>\n",
              "      <td>C</td>\n",
              "      <td>26.0</td>\n",
              "      <td>7-0</td>\n",
              "      <td>231.0</td>\n",
              "      <td>Kansas</td>\n",
              "      <td>947276.0</td>\n",
              "    </tr>\n",
              "    <tr>\n",
              "      <th>457</th>\n",
              "      <td>NaN</td>\n",
              "      <td>NaN</td>\n",
              "      <td>NaN</td>\n",
              "      <td>NaN</td>\n",
              "      <td>NaN</td>\n",
              "      <td>NaN</td>\n",
              "      <td>NaN</td>\n",
              "      <td>NaN</td>\n",
              "      <td>NaN</td>\n",
              "    </tr>\n",
              "  </tbody>\n",
              "</table>\n",
              "<p>458 rows × 9 columns</p>\n",
              "</div>\n",
              "    <div class=\"colab-df-buttons\">\n",
              "\n",
              "  <div class=\"colab-df-container\">\n",
              "    <button class=\"colab-df-convert\" onclick=\"convertToInteractive('df-9298840f-4fe2-4b16-9ee5-37f322512d81')\"\n",
              "            title=\"Convert this dataframe to an interactive table.\"\n",
              "            style=\"display:none;\">\n",
              "\n",
              "  <svg xmlns=\"http://www.w3.org/2000/svg\" height=\"24px\" viewBox=\"0 -960 960 960\">\n",
              "    <path d=\"M120-120v-720h720v720H120Zm60-500h600v-160H180v160Zm220 220h160v-160H400v160Zm0 220h160v-160H400v160ZM180-400h160v-160H180v160Zm440 0h160v-160H620v160ZM180-180h160v-160H180v160Zm440 0h160v-160H620v160Z\"/>\n",
              "  </svg>\n",
              "    </button>\n",
              "\n",
              "  <style>\n",
              "    .colab-df-container {\n",
              "      display:flex;\n",
              "      gap: 12px;\n",
              "    }\n",
              "\n",
              "    .colab-df-convert {\n",
              "      background-color: #E8F0FE;\n",
              "      border: none;\n",
              "      border-radius: 50%;\n",
              "      cursor: pointer;\n",
              "      display: none;\n",
              "      fill: #1967D2;\n",
              "      height: 32px;\n",
              "      padding: 0 0 0 0;\n",
              "      width: 32px;\n",
              "    }\n",
              "\n",
              "    .colab-df-convert:hover {\n",
              "      background-color: #E2EBFA;\n",
              "      box-shadow: 0px 1px 2px rgba(60, 64, 67, 0.3), 0px 1px 3px 1px rgba(60, 64, 67, 0.15);\n",
              "      fill: #174EA6;\n",
              "    }\n",
              "\n",
              "    .colab-df-buttons div {\n",
              "      margin-bottom: 4px;\n",
              "    }\n",
              "\n",
              "    [theme=dark] .colab-df-convert {\n",
              "      background-color: #3B4455;\n",
              "      fill: #D2E3FC;\n",
              "    }\n",
              "\n",
              "    [theme=dark] .colab-df-convert:hover {\n",
              "      background-color: #434B5C;\n",
              "      box-shadow: 0px 1px 3px 1px rgba(0, 0, 0, 0.15);\n",
              "      filter: drop-shadow(0px 1px 2px rgba(0, 0, 0, 0.3));\n",
              "      fill: #FFFFFF;\n",
              "    }\n",
              "  </style>\n",
              "\n",
              "    <script>\n",
              "      const buttonEl =\n",
              "        document.querySelector('#df-9298840f-4fe2-4b16-9ee5-37f322512d81 button.colab-df-convert');\n",
              "      buttonEl.style.display =\n",
              "        google.colab.kernel.accessAllowed ? 'block' : 'none';\n",
              "\n",
              "      async function convertToInteractive(key) {\n",
              "        const element = document.querySelector('#df-9298840f-4fe2-4b16-9ee5-37f322512d81');\n",
              "        const dataTable =\n",
              "          await google.colab.kernel.invokeFunction('convertToInteractive',\n",
              "                                                    [key], {});\n",
              "        if (!dataTable) return;\n",
              "\n",
              "        const docLinkHtml = 'Like what you see? Visit the ' +\n",
              "          '<a target=\"_blank\" href=https://colab.research.google.com/notebooks/data_table.ipynb>data table notebook</a>'\n",
              "          + ' to learn more about interactive tables.';\n",
              "        element.innerHTML = '';\n",
              "        dataTable['output_type'] = 'display_data';\n",
              "        await google.colab.output.renderOutput(dataTable, element);\n",
              "        const docLink = document.createElement('div');\n",
              "        docLink.innerHTML = docLinkHtml;\n",
              "        element.appendChild(docLink);\n",
              "      }\n",
              "    </script>\n",
              "  </div>\n",
              "\n",
              "\n",
              "<div id=\"df-786a68b4-e1dc-45fa-a774-fde4be2e2a94\">\n",
              "  <button class=\"colab-df-quickchart\" onclick=\"quickchart('df-786a68b4-e1dc-45fa-a774-fde4be2e2a94')\"\n",
              "            title=\"Suggest charts\"\n",
              "            style=\"display:none;\">\n",
              "\n",
              "<svg xmlns=\"http://www.w3.org/2000/svg\" height=\"24px\"viewBox=\"0 0 24 24\"\n",
              "     width=\"24px\">\n",
              "    <g>\n",
              "        <path d=\"M19 3H5c-1.1 0-2 .9-2 2v14c0 1.1.9 2 2 2h14c1.1 0 2-.9 2-2V5c0-1.1-.9-2-2-2zM9 17H7v-7h2v7zm4 0h-2V7h2v10zm4 0h-2v-4h2v4z\"/>\n",
              "    </g>\n",
              "</svg>\n",
              "  </button>\n",
              "\n",
              "<style>\n",
              "  .colab-df-quickchart {\n",
              "      --bg-color: #E8F0FE;\n",
              "      --fill-color: #1967D2;\n",
              "      --hover-bg-color: #E2EBFA;\n",
              "      --hover-fill-color: #174EA6;\n",
              "      --disabled-fill-color: #AAA;\n",
              "      --disabled-bg-color: #DDD;\n",
              "  }\n",
              "\n",
              "  [theme=dark] .colab-df-quickchart {\n",
              "      --bg-color: #3B4455;\n",
              "      --fill-color: #D2E3FC;\n",
              "      --hover-bg-color: #434B5C;\n",
              "      --hover-fill-color: #FFFFFF;\n",
              "      --disabled-bg-color: #3B4455;\n",
              "      --disabled-fill-color: #666;\n",
              "  }\n",
              "\n",
              "  .colab-df-quickchart {\n",
              "    background-color: var(--bg-color);\n",
              "    border: none;\n",
              "    border-radius: 50%;\n",
              "    cursor: pointer;\n",
              "    display: none;\n",
              "    fill: var(--fill-color);\n",
              "    height: 32px;\n",
              "    padding: 0;\n",
              "    width: 32px;\n",
              "  }\n",
              "\n",
              "  .colab-df-quickchart:hover {\n",
              "    background-color: var(--hover-bg-color);\n",
              "    box-shadow: 0 1px 2px rgba(60, 64, 67, 0.3), 0 1px 3px 1px rgba(60, 64, 67, 0.15);\n",
              "    fill: var(--button-hover-fill-color);\n",
              "  }\n",
              "\n",
              "  .colab-df-quickchart-complete:disabled,\n",
              "  .colab-df-quickchart-complete:disabled:hover {\n",
              "    background-color: var(--disabled-bg-color);\n",
              "    fill: var(--disabled-fill-color);\n",
              "    box-shadow: none;\n",
              "  }\n",
              "\n",
              "  .colab-df-spinner {\n",
              "    border: 2px solid var(--fill-color);\n",
              "    border-color: transparent;\n",
              "    border-bottom-color: var(--fill-color);\n",
              "    animation:\n",
              "      spin 1s steps(1) infinite;\n",
              "  }\n",
              "\n",
              "  @keyframes spin {\n",
              "    0% {\n",
              "      border-color: transparent;\n",
              "      border-bottom-color: var(--fill-color);\n",
              "      border-left-color: var(--fill-color);\n",
              "    }\n",
              "    20% {\n",
              "      border-color: transparent;\n",
              "      border-left-color: var(--fill-color);\n",
              "      border-top-color: var(--fill-color);\n",
              "    }\n",
              "    30% {\n",
              "      border-color: transparent;\n",
              "      border-left-color: var(--fill-color);\n",
              "      border-top-color: var(--fill-color);\n",
              "      border-right-color: var(--fill-color);\n",
              "    }\n",
              "    40% {\n",
              "      border-color: transparent;\n",
              "      border-right-color: var(--fill-color);\n",
              "      border-top-color: var(--fill-color);\n",
              "    }\n",
              "    60% {\n",
              "      border-color: transparent;\n",
              "      border-right-color: var(--fill-color);\n",
              "    }\n",
              "    80% {\n",
              "      border-color: transparent;\n",
              "      border-right-color: var(--fill-color);\n",
              "      border-bottom-color: var(--fill-color);\n",
              "    }\n",
              "    90% {\n",
              "      border-color: transparent;\n",
              "      border-bottom-color: var(--fill-color);\n",
              "    }\n",
              "  }\n",
              "</style>\n",
              "\n",
              "  <script>\n",
              "    async function quickchart(key) {\n",
              "      const quickchartButtonEl =\n",
              "        document.querySelector('#' + key + ' button');\n",
              "      quickchartButtonEl.disabled = true;  // To prevent multiple clicks.\n",
              "      quickchartButtonEl.classList.add('colab-df-spinner');\n",
              "      try {\n",
              "        const charts = await google.colab.kernel.invokeFunction(\n",
              "            'suggestCharts', [key], {});\n",
              "      } catch (error) {\n",
              "        console.error('Error during call to suggestCharts:', error);\n",
              "      }\n",
              "      quickchartButtonEl.classList.remove('colab-df-spinner');\n",
              "      quickchartButtonEl.classList.add('colab-df-quickchart-complete');\n",
              "    }\n",
              "    (() => {\n",
              "      let quickchartButtonEl =\n",
              "        document.querySelector('#df-786a68b4-e1dc-45fa-a774-fde4be2e2a94 button');\n",
              "      quickchartButtonEl.style.display =\n",
              "        google.colab.kernel.accessAllowed ? 'block' : 'none';\n",
              "    })();\n",
              "  </script>\n",
              "</div>\n",
              "\n",
              "  <div id=\"id_8bf70a39-6b12-4602-a366-6deec7f6444c\">\n",
              "    <style>\n",
              "      .colab-df-generate {\n",
              "        background-color: #E8F0FE;\n",
              "        border: none;\n",
              "        border-radius: 50%;\n",
              "        cursor: pointer;\n",
              "        display: none;\n",
              "        fill: #1967D2;\n",
              "        height: 32px;\n",
              "        padding: 0 0 0 0;\n",
              "        width: 32px;\n",
              "      }\n",
              "\n",
              "      .colab-df-generate:hover {\n",
              "        background-color: #E2EBFA;\n",
              "        box-shadow: 0px 1px 2px rgba(60, 64, 67, 0.3), 0px 1px 3px 1px rgba(60, 64, 67, 0.15);\n",
              "        fill: #174EA6;\n",
              "      }\n",
              "\n",
              "      [theme=dark] .colab-df-generate {\n",
              "        background-color: #3B4455;\n",
              "        fill: #D2E3FC;\n",
              "      }\n",
              "\n",
              "      [theme=dark] .colab-df-generate:hover {\n",
              "        background-color: #434B5C;\n",
              "        box-shadow: 0px 1px 3px 1px rgba(0, 0, 0, 0.15);\n",
              "        filter: drop-shadow(0px 1px 2px rgba(0, 0, 0, 0.3));\n",
              "        fill: #FFFFFF;\n",
              "      }\n",
              "    </style>\n",
              "    <button class=\"colab-df-generate\" onclick=\"generateWithVariable('df')\"\n",
              "            title=\"Generate code using this dataframe.\"\n",
              "            style=\"display:none;\">\n",
              "\n",
              "  <svg xmlns=\"http://www.w3.org/2000/svg\" height=\"24px\"viewBox=\"0 0 24 24\"\n",
              "       width=\"24px\">\n",
              "    <path d=\"M7,19H8.4L18.45,9,17,7.55,7,17.6ZM5,21V16.75L18.45,3.32a2,2,0,0,1,2.83,0l1.4,1.43a1.91,1.91,0,0,1,.58,1.4,1.91,1.91,0,0,1-.58,1.4L9.25,21ZM18.45,9,17,7.55Zm-12,3A5.31,5.31,0,0,0,4.9,8.1,5.31,5.31,0,0,0,1,6.5,5.31,5.31,0,0,0,4.9,4.9,5.31,5.31,0,0,0,6.5,1,5.31,5.31,0,0,0,8.1,4.9,5.31,5.31,0,0,0,12,6.5,5.46,5.46,0,0,0,6.5,12Z\"/>\n",
              "  </svg>\n",
              "    </button>\n",
              "    <script>\n",
              "      (() => {\n",
              "      const buttonEl =\n",
              "        document.querySelector('#id_8bf70a39-6b12-4602-a366-6deec7f6444c button.colab-df-generate');\n",
              "      buttonEl.style.display =\n",
              "        google.colab.kernel.accessAllowed ? 'block' : 'none';\n",
              "\n",
              "      buttonEl.onclick = () => {\n",
              "        google.colab.notebook.generateWithVariable('df');\n",
              "      }\n",
              "      })();\n",
              "    </script>\n",
              "  </div>\n",
              "\n",
              "    </div>\n",
              "  </div>\n"
            ]
          },
          "metadata": {},
          "execution_count": 3
        }
      ]
    },
    {
      "cell_type": "code",
      "source": [
        "df.isnull().sum()"
      ],
      "metadata": {
        "colab": {
          "base_uri": "https://localhost:8080/"
        },
        "id": "A7Wi-o5e84Oo",
        "outputId": "b80666c4-9092-47f9-bf47-b1b1da0b8646"
      },
      "execution_count": null,
      "outputs": [
        {
          "output_type": "execute_result",
          "data": {
            "text/plain": [
              "Name         1\n",
              "Team         1\n",
              "Number       1\n",
              "Position     1\n",
              "Age          1\n",
              "Height       1\n",
              "Weight       1\n",
              "College     85\n",
              "Salary      12\n",
              "dtype: int64"
            ]
          },
          "metadata": {},
          "execution_count": 5
        }
      ]
    },
    {
      "cell_type": "markdown",
      "source": [
        "# Filling the missing values"
      ],
      "metadata": {
        "id": "SQUb8LTWD1vy"
      }
    },
    {
      "cell_type": "code",
      "source": [
        "df.info()"
      ],
      "metadata": {
        "colab": {
          "base_uri": "https://localhost:8080/"
        },
        "id": "ho_OBDiK9Ewb",
        "outputId": "78db2833-b76d-4fe7-8c38-4204d482d2ab"
      },
      "execution_count": null,
      "outputs": [
        {
          "output_type": "stream",
          "name": "stdout",
          "text": [
            "<class 'pandas.core.frame.DataFrame'>\n",
            "RangeIndex: 458 entries, 0 to 457\n",
            "Data columns (total 9 columns):\n",
            " #   Column    Non-Null Count  Dtype  \n",
            "---  ------    --------------  -----  \n",
            " 0   Name      457 non-null    object \n",
            " 1   Team      457 non-null    object \n",
            " 2   Number    457 non-null    float64\n",
            " 3   Position  457 non-null    object \n",
            " 4   Age       457 non-null    float64\n",
            " 5   Height    457 non-null    object \n",
            " 6   Weight    457 non-null    float64\n",
            " 7   College   373 non-null    object \n",
            " 8   Salary    446 non-null    float64\n",
            "dtypes: float64(4), object(5)\n",
            "memory usage: 32.3+ KB\n"
          ]
        }
      ]
    },
    {
      "cell_type": "code",
      "source": [
        "df['Weight'].fillna(df['Weight'].mode()[0], inplace = True)\n",
        "df['Height'].fillna(df['Height'].mode()[0], inplace = True)\n",
        "df['Age'].fillna(df['Age'].mode()[0], inplace = True)\n",
        "df['Team'].fillna(df['Team'].mode()[0], inplace = True)\n",
        "df['Position'].fillna(df['Position'].mode()[0], inplace = True)\n",
        "df['Number'].fillna(df['Number'].mode()[0], inplace = True)\n",
        "df['College'].fillna(df['College'].mode()[0], inplace = True)\n",
        "df['Salary'].fillna(df['Salary'].mode()[0], inplace = True)\n",
        "df['Name'].fillna(df['Name'].mode()[0], inplace = True)\n",
        "df['Weight'].isnull().sum()"
      ],
      "metadata": {
        "colab": {
          "base_uri": "https://localhost:8080/",
          "height": 247
        },
        "id": "0NK1hO6c9Jt4",
        "outputId": "a8bcf1c5-a8b2-41ed-8dbf-a59d4eca9b70"
      },
      "execution_count": null,
      "outputs": [
        {
          "output_type": "error",
          "ename": "NameError",
          "evalue": "name 'df' is not defined",
          "traceback": [
            "\u001b[0;31m---------------------------------------------------------------------------\u001b[0m",
            "\u001b[0;31mNameError\u001b[0m                                 Traceback (most recent call last)",
            "\u001b[0;32m<ipython-input-1-8f5ef98248c5>\u001b[0m in \u001b[0;36m<cell line: 1>\u001b[0;34m()\u001b[0m\n\u001b[0;32m----> 1\u001b[0;31m \u001b[0mdf\u001b[0m\u001b[0;34m[\u001b[0m\u001b[0;34m'Weight'\u001b[0m\u001b[0;34m]\u001b[0m\u001b[0;34m.\u001b[0m\u001b[0mfillna\u001b[0m\u001b[0;34m(\u001b[0m\u001b[0mdf\u001b[0m\u001b[0;34m[\u001b[0m\u001b[0;34m'Weight'\u001b[0m\u001b[0;34m]\u001b[0m\u001b[0;34m.\u001b[0m\u001b[0mmode\u001b[0m\u001b[0;34m(\u001b[0m\u001b[0;34m)\u001b[0m\u001b[0;34m[\u001b[0m\u001b[0;36m0\u001b[0m\u001b[0;34m]\u001b[0m\u001b[0;34m,\u001b[0m \u001b[0minplace\u001b[0m \u001b[0;34m=\u001b[0m \u001b[0;32mTrue\u001b[0m\u001b[0;34m)\u001b[0m\u001b[0;34m\u001b[0m\u001b[0;34m\u001b[0m\u001b[0m\n\u001b[0m\u001b[1;32m      2\u001b[0m \u001b[0mdf\u001b[0m\u001b[0;34m[\u001b[0m\u001b[0;34m'Height'\u001b[0m\u001b[0;34m]\u001b[0m\u001b[0;34m.\u001b[0m\u001b[0mfillna\u001b[0m\u001b[0;34m(\u001b[0m\u001b[0mdf\u001b[0m\u001b[0;34m[\u001b[0m\u001b[0;34m'Height'\u001b[0m\u001b[0;34m]\u001b[0m\u001b[0;34m.\u001b[0m\u001b[0mmode\u001b[0m\u001b[0;34m(\u001b[0m\u001b[0;34m)\u001b[0m\u001b[0;34m[\u001b[0m\u001b[0;36m0\u001b[0m\u001b[0;34m]\u001b[0m\u001b[0;34m,\u001b[0m \u001b[0minplace\u001b[0m \u001b[0;34m=\u001b[0m \u001b[0;32mTrue\u001b[0m\u001b[0;34m)\u001b[0m\u001b[0;34m\u001b[0m\u001b[0;34m\u001b[0m\u001b[0m\n\u001b[1;32m      3\u001b[0m \u001b[0mdf\u001b[0m\u001b[0;34m[\u001b[0m\u001b[0;34m'Age'\u001b[0m\u001b[0;34m]\u001b[0m\u001b[0;34m.\u001b[0m\u001b[0mfillna\u001b[0m\u001b[0;34m(\u001b[0m\u001b[0mdf\u001b[0m\u001b[0;34m[\u001b[0m\u001b[0;34m'Age'\u001b[0m\u001b[0;34m]\u001b[0m\u001b[0;34m.\u001b[0m\u001b[0mmode\u001b[0m\u001b[0;34m(\u001b[0m\u001b[0;34m)\u001b[0m\u001b[0;34m[\u001b[0m\u001b[0;36m0\u001b[0m\u001b[0;34m]\u001b[0m\u001b[0;34m,\u001b[0m \u001b[0minplace\u001b[0m \u001b[0;34m=\u001b[0m \u001b[0;32mTrue\u001b[0m\u001b[0;34m)\u001b[0m\u001b[0;34m\u001b[0m\u001b[0;34m\u001b[0m\u001b[0m\n\u001b[1;32m      4\u001b[0m \u001b[0mdf\u001b[0m\u001b[0;34m[\u001b[0m\u001b[0;34m'Team'\u001b[0m\u001b[0;34m]\u001b[0m\u001b[0;34m.\u001b[0m\u001b[0mfillna\u001b[0m\u001b[0;34m(\u001b[0m\u001b[0mdf\u001b[0m\u001b[0;34m[\u001b[0m\u001b[0;34m'Team'\u001b[0m\u001b[0;34m]\u001b[0m\u001b[0;34m.\u001b[0m\u001b[0mmode\u001b[0m\u001b[0;34m(\u001b[0m\u001b[0;34m)\u001b[0m\u001b[0;34m[\u001b[0m\u001b[0;36m0\u001b[0m\u001b[0;34m]\u001b[0m\u001b[0;34m,\u001b[0m \u001b[0minplace\u001b[0m \u001b[0;34m=\u001b[0m \u001b[0;32mTrue\u001b[0m\u001b[0;34m)\u001b[0m\u001b[0;34m\u001b[0m\u001b[0;34m\u001b[0m\u001b[0m\n\u001b[1;32m      5\u001b[0m \u001b[0mdf\u001b[0m\u001b[0;34m[\u001b[0m\u001b[0;34m'Position'\u001b[0m\u001b[0;34m]\u001b[0m\u001b[0;34m.\u001b[0m\u001b[0mfillna\u001b[0m\u001b[0;34m(\u001b[0m\u001b[0mdf\u001b[0m\u001b[0;34m[\u001b[0m\u001b[0;34m'Position'\u001b[0m\u001b[0;34m]\u001b[0m\u001b[0;34m.\u001b[0m\u001b[0mmode\u001b[0m\u001b[0;34m(\u001b[0m\u001b[0;34m)\u001b[0m\u001b[0;34m[\u001b[0m\u001b[0;36m0\u001b[0m\u001b[0;34m]\u001b[0m\u001b[0;34m,\u001b[0m \u001b[0minplace\u001b[0m \u001b[0;34m=\u001b[0m \u001b[0;32mTrue\u001b[0m\u001b[0;34m)\u001b[0m\u001b[0;34m\u001b[0m\u001b[0;34m\u001b[0m\u001b[0m\n",
            "\u001b[0;31mNameError\u001b[0m: name 'df' is not defined"
          ]
        }
      ]
    },
    {
      "cell_type": "code",
      "source": [
        "df.isnull().sum()"
      ],
      "metadata": {
        "colab": {
          "base_uri": "https://localhost:8080/"
        },
        "id": "8VHgXGQu9-Pd",
        "outputId": "50904eeb-4abd-4902-db03-4ac07166cd83"
      },
      "execution_count": null,
      "outputs": [
        {
          "output_type": "execute_result",
          "data": {
            "text/plain": [
              "Name        0\n",
              "Team        0\n",
              "Number      0\n",
              "Position    0\n",
              "Age         0\n",
              "Height      0\n",
              "Weight      0\n",
              "College     0\n",
              "Salary      0\n",
              "dtype: int64"
            ]
          },
          "metadata": {},
          "execution_count": 25
        }
      ]
    },
    {
      "cell_type": "markdown",
      "source": [
        "# Descriptive Statistics of each column"
      ],
      "metadata": {
        "id": "heIZUhqBDqBs"
      }
    },
    {
      "cell_type": "code",
      "source": [
        "df['Name'].describe()"
      ],
      "metadata": {
        "colab": {
          "base_uri": "https://localhost:8080/"
        },
        "id": "mKpjY8Rs_jKC",
        "outputId": "62b1d224-e5c1-42da-e1a8-f4389941e89b"
      },
      "execution_count": null,
      "outputs": [
        {
          "output_type": "execute_result",
          "data": {
            "text/plain": [
              "count              458\n",
              "unique             457\n",
              "top       Aaron Brooks\n",
              "freq                 2\n",
              "Name: Name, dtype: object"
            ]
          },
          "metadata": {},
          "execution_count": 26
        }
      ]
    },
    {
      "cell_type": "code",
      "source": [
        "df['Team'].describe()"
      ],
      "metadata": {
        "colab": {
          "base_uri": "https://localhost:8080/"
        },
        "id": "C2zDYV3vByaB",
        "outputId": "f21ba064-5b69-4689-b1b6-18ffe59c7db9"
      },
      "execution_count": null,
      "outputs": [
        {
          "output_type": "execute_result",
          "data": {
            "text/plain": [
              "count                      458\n",
              "unique                      30\n",
              "top       New Orleans Pelicans\n",
              "freq                        20\n",
              "Name: Team, dtype: object"
            ]
          },
          "metadata": {},
          "execution_count": 27
        }
      ]
    },
    {
      "cell_type": "code",
      "source": [
        "df['Number'].describe()"
      ],
      "metadata": {
        "colab": {
          "base_uri": "https://localhost:8080/"
        },
        "id": "9sTA6OdIB3NC",
        "outputId": "c7ad8615-585d-4b83-d487-455730e05f4c"
      },
      "execution_count": null,
      "outputs": [
        {
          "output_type": "execute_result",
          "data": {
            "text/plain": [
              "count    458.000000\n",
              "mean      17.650655\n",
              "std       15.959612\n",
              "min        0.000000\n",
              "25%        5.000000\n",
              "50%       13.000000\n",
              "75%       25.000000\n",
              "max       99.000000\n",
              "Name: Number, dtype: float64"
            ]
          },
          "metadata": {},
          "execution_count": 28
        }
      ]
    },
    {
      "cell_type": "code",
      "source": [
        "df['Position'].describe()"
      ],
      "metadata": {
        "colab": {
          "base_uri": "https://localhost:8080/"
        },
        "id": "8MQOQzPgB8xZ",
        "outputId": "c38e67ac-cb41-4f9d-f6e4-d6491a898b99"
      },
      "execution_count": null,
      "outputs": [
        {
          "output_type": "execute_result",
          "data": {
            "text/plain": [
              "count     458\n",
              "unique      5\n",
              "top        SG\n",
              "freq      103\n",
              "Name: Position, dtype: object"
            ]
          },
          "metadata": {},
          "execution_count": 29
        }
      ]
    },
    {
      "cell_type": "code",
      "source": [
        "df['Age'].describe()"
      ],
      "metadata": {
        "colab": {
          "base_uri": "https://localhost:8080/"
        },
        "id": "lmQcwaIsCBYC",
        "outputId": "1895b38f-843d-4e84-bca3-6199d0fabfa5"
      },
      "execution_count": null,
      "outputs": [
        {
          "output_type": "execute_result",
          "data": {
            "text/plain": [
              "count    458.000000\n",
              "mean      26.932314\n",
              "std        4.401338\n",
              "min       19.000000\n",
              "25%       24.000000\n",
              "50%       26.000000\n",
              "75%       30.000000\n",
              "max       40.000000\n",
              "Name: Age, dtype: float64"
            ]
          },
          "metadata": {},
          "execution_count": 30
        }
      ]
    },
    {
      "cell_type": "code",
      "source": [
        "df['Height'].describe()"
      ],
      "metadata": {
        "colab": {
          "base_uri": "https://localhost:8080/"
        },
        "id": "ncOA4jVdCGFa",
        "outputId": "dae68051-a9b0-43a1-cfab-7dadf5ca6bac"
      },
      "execution_count": null,
      "outputs": [
        {
          "output_type": "execute_result",
          "data": {
            "text/plain": [
              "count     458\n",
              "unique     18\n",
              "top       6-9\n",
              "freq       60\n",
              "Name: Height, dtype: object"
            ]
          },
          "metadata": {},
          "execution_count": 31
        }
      ]
    },
    {
      "cell_type": "code",
      "source": [
        "df['Weight'].describe()"
      ],
      "metadata": {
        "colab": {
          "base_uri": "https://localhost:8080/"
        },
        "id": "T2gmCjp6CNpS",
        "outputId": "6747cea3-bc42-420a-c583-4bd80c17eba3"
      },
      "execution_count": null,
      "outputs": [
        {
          "output_type": "execute_result",
          "data": {
            "text/plain": [
              "count    458.000000\n",
              "mean     221.519651\n",
              "std       26.339574\n",
              "min      161.000000\n",
              "25%      200.000000\n",
              "50%      220.000000\n",
              "75%      240.000000\n",
              "max      307.000000\n",
              "Name: Weight, dtype: float64"
            ]
          },
          "metadata": {},
          "execution_count": 32
        }
      ]
    },
    {
      "cell_type": "code",
      "source": [
        "df['College'].describe()"
      ],
      "metadata": {
        "colab": {
          "base_uri": "https://localhost:8080/"
        },
        "id": "JEi9JNctCRJg",
        "outputId": "b277ccb1-7376-4258-ab71-e850f5b43823"
      },
      "execution_count": null,
      "outputs": [
        {
          "output_type": "execute_result",
          "data": {
            "text/plain": [
              "count          458\n",
              "unique         118\n",
              "top       Kentucky\n",
              "freq           107\n",
              "Name: College, dtype: object"
            ]
          },
          "metadata": {},
          "execution_count": 33
        }
      ]
    },
    {
      "cell_type": "code",
      "source": [
        "df['Salary'].describe()"
      ],
      "metadata": {
        "colab": {
          "base_uri": "https://localhost:8080/"
        },
        "id": "_IKoC2h7CXUZ",
        "outputId": "b27982b1-0206-4b44-db17-9a3ca9ffa69c"
      },
      "execution_count": null,
      "outputs": [
        {
          "output_type": "execute_result",
          "data": {
            "text/plain": [
              "count    4.580000e+02\n",
              "mean     4.740621e+06\n",
              "std      5.197586e+06\n",
              "min      3.088800e+04\n",
              "25%      1.000000e+06\n",
              "50%      2.647980e+06\n",
              "75%      6.323553e+06\n",
              "max      2.500000e+07\n",
              "Name: Salary, dtype: float64"
            ]
          },
          "metadata": {},
          "execution_count": 34
        }
      ]
    },
    {
      "cell_type": "markdown",
      "source": [
        "# Group by Categorical Variables"
      ],
      "metadata": {
        "id": "QLLhywk6DiTh"
      }
    },
    {
      "cell_type": "code",
      "source": [
        "print(df.groupby(['Position']).describe().reset_index())"
      ],
      "metadata": {
        "colab": {
          "base_uri": "https://localhost:8080/"
        },
        "id": "9PE6c9IMCcaU",
        "outputId": "2743b49d-3865-4082-beaa-5b1868eeda6e"
      },
      "execution_count": null,
      "outputs": [
        {
          "output_type": "stream",
          "name": "stdout",
          "text": [
            "  Position Number                                                        Age  \\\n",
            "            count       mean        std  min    25%   50%   75%   max  count   \n",
            "0        C   78.0  21.807692  16.662469  0.0  11.25  17.0  28.0  92.0   78.0   \n",
            "1       PF  100.0  23.570000  20.107918  0.0   6.00  21.5  35.0  90.0  100.0   \n",
            "2       PG   92.0  10.967391  11.982085  0.0   2.00   8.0  14.0  55.0   92.0   \n",
            "3       SF   85.0  17.611765  14.904533  0.0   7.00  15.0  24.0  99.0   85.0   \n",
            "4       SG  103.0  14.757282  11.481841  0.0   5.00  11.0  23.0  55.0  103.0   \n",
            "\n",
            "   ... Weight        Salary                                                   \\\n",
            "   ...    75%    max  count          mean           std       min        25%   \n",
            "0  ...  265.0  307.0   78.0  5.967052e+06  5.787989e+06   83397.0  1328880.0   \n",
            "1  ...  250.0  275.0  100.0  4.454027e+06  4.767231e+06  111444.0  1005269.5   \n",
            "2  ...  200.0  220.0   92.0  4.898240e+06  5.011620e+06   55722.0  1112213.5   \n",
            "3  ...  230.0  260.0   85.0  4.811391e+06  5.991027e+06   30888.0   981348.0   \n",
            "4  ...  218.0  234.0  103.0  3.890926e+06  4.442626e+06   55722.0   947276.0   \n",
            "\n",
            "                                      \n",
            "         50%         75%         max  \n",
            "0  3811060.0  9620558.25  22359364.0  \n",
            "1  2877470.0  5543725.00  22192730.0  \n",
            "2  2927470.0  7000000.00  21468695.0  \n",
            "3  2000000.0  5500000.00  25000000.0  \n",
            "4  1733040.0  5675000.00  20000000.0  \n",
            "\n",
            "[5 rows x 33 columns]\n"
          ]
        }
      ]
    },
    {
      "cell_type": "code",
      "source": [
        "print(df.groupby(['Age']).describe().reset_index())"
      ],
      "metadata": {
        "colab": {
          "base_uri": "https://localhost:8080/"
        },
        "id": "092xbRJaCnPT",
        "outputId": "a4754222-bff4-4443-f48b-2c71a6cbf0b7"
      },
      "execution_count": null,
      "outputs": [
        {
          "output_type": "stream",
          "name": "stdout",
          "text": [
            "     Age Number                                                       Weight  \\\n",
            "          count       mean        std   min    25%   50%    75%   max  count   \n",
            "0   19.0    2.0  10.500000  13.435029   1.0   5.75  10.5  15.25  20.0    2.0   \n",
            "1   20.0   19.0  17.210526  14.199292   0.0   4.50  13.0  32.50  41.0   19.0   \n",
            "2   21.0   19.0  18.315789  12.614157   1.0  10.00  17.0  23.00  55.0   19.0   \n",
            "3   22.0   26.0  14.423077  12.551249   0.0   4.00  12.0  21.00  40.0   26.0   \n",
            "4   23.0   41.0  19.682927  19.517222   0.0   6.00  13.0  25.00  92.0   41.0   \n",
            "5   24.0   48.0  16.229167  14.821261   2.0   5.00  11.5  23.50  77.0   48.0   \n",
            "6   25.0   45.0  19.866667  18.501351   0.0   5.00  15.0  31.00  99.0   45.0   \n",
            "7   26.0   36.0  17.277778  13.081309   1.0   8.00  14.5  23.25  55.0   36.0   \n",
            "8   27.0   41.0  18.682927  16.879631   0.0   5.00  12.0  30.00  55.0   41.0   \n",
            "9   28.0   31.0  19.741935  17.826886   0.0   8.50  14.0  31.50  88.0   31.0   \n",
            "10  29.0   28.0  16.892857  18.736653   0.0   4.75  12.0  21.00  90.0   28.0   \n",
            "11  30.0   31.0  12.032258  11.827888   1.0   3.50   9.0  14.50  50.0   31.0   \n",
            "12  31.0   22.0  12.681818  13.047117   0.0   3.25   8.5  16.25  43.0   22.0   \n",
            "13  32.0   13.0  12.846154   9.906615   1.0   6.00   9.0  18.00  32.0   13.0   \n",
            "14  33.0   14.0  23.571429  17.212314   4.0   9.00  18.5  40.00  52.0   14.0   \n",
            "15  34.0   10.0  23.500000  29.014364   1.0   3.00   9.0  34.50  90.0   10.0   \n",
            "16  35.0    9.0  19.666667  11.958261   1.0  12.00  24.0  30.00  34.0    9.0   \n",
            "17  36.0   10.0  19.700000  13.047350   3.0  11.25  18.5  28.75  40.0   10.0   \n",
            "18  37.0    4.0  28.500000  16.542874   7.0  19.75  32.5  41.25  42.0    4.0   \n",
            "19  38.0    4.0  24.500000   9.746794  13.0  18.25  25.5  31.75  34.0    4.0   \n",
            "20  39.0    2.0  12.000000   4.242641   9.0  10.50  12.0  13.50  15.0    2.0   \n",
            "21  40.0    3.0  22.000000   1.732051  21.0  21.00  21.0  22.50  24.0    3.0   \n",
            "\n",
            "    ...                Salary                                         \\\n",
            "    ...     75%    max  count          mean           std        min   \n",
            "0   ...  205.00  206.0    2.0  1.930440e+06  2.791658e+05  1733040.0   \n",
            "1   ...  240.00  275.0   19.0  2.725791e+06  1.510913e+06   525093.0   \n",
            "2   ...  240.50  280.0   19.0  2.067380e+06  1.412350e+06   525093.0   \n",
            "3   ...  240.00  279.0   26.0  2.357963e+06  1.517378e+06   525093.0   \n",
            "4   ...  230.00  275.0   41.0  1.981699e+06  2.669765e+06    30888.0   \n",
            "5   ...  238.50  265.0   48.0  3.607924e+06  4.699123e+06   525093.0   \n",
            "6   ...  235.00  270.0   45.0  3.864565e+06  4.528260e+06    55722.0   \n",
            "7   ...  245.75  278.0   36.0  6.866566e+06  6.100471e+06   134215.0   \n",
            "8   ...  240.00  290.0   41.0  6.536998e+06  6.805127e+06    55722.0   \n",
            "9   ...  240.00  275.0   31.0  4.975901e+06  4.309430e+06   206192.0   \n",
            "10  ...  250.00  275.0   28.0  6.035716e+06  4.882582e+06   111444.0   \n",
            "11  ...  225.00  307.0   31.0  6.864614e+06  5.429977e+06   947276.0   \n",
            "12  ...  250.00  289.0   22.0  8.511397e+06  7.170163e+06   947276.0   \n",
            "13  ...  240.00  275.0   13.0  7.716958e+06  7.451336e+06   295327.0   \n",
            "14  ...  245.00  273.0   14.0  3.930739e+06  4.354293e+06   200600.0   \n",
            "15  ...  250.00  265.0   10.0  7.606030e+06  5.653035e+06   261894.0   \n",
            "16  ...  250.00  255.0    9.0  3.182355e+06  2.365437e+06   947276.0   \n",
            "17  ...  235.00  260.0   10.0  2.238120e+06  1.550061e+06   947276.0   \n",
            "18  ...  247.25  254.0    4.0  9.820152e+06  1.056094e+07   947276.0   \n",
            "19  ...  238.75  250.0    4.0  1.840041e+06  1.496661e+06   222888.0   \n",
            "20  ...  211.25  220.0    2.0  2.517872e+06  2.220522e+06   947726.0   \n",
            "21  ...  245.00  250.0    3.0  4.666917e+06  4.155421e+06   250750.0   \n",
            "\n",
            "                                                    \n",
            "           25%        50%          75%         max  \n",
            "0   1831740.00  1930440.0   2029140.00   2127840.0  \n",
            "1   1636920.00  2481720.0   3954720.00   5703600.0  \n",
            "2   1235480.00  1584480.0   2084940.00   5758680.0  \n",
            "3   1169190.00  1793880.0   3366732.75   6331404.0  \n",
            "4    650000.00  1155600.0   2658240.00  16000000.0  \n",
            "5    935457.00  1383780.0   3275259.50  16407501.0  \n",
            "6    947276.00  1252440.0   5543725.00  15851950.0  \n",
            "7   1336790.50  3325000.0  12562500.00  17120106.0  \n",
            "8   1015421.00  3425510.0  11235955.00  20158622.0  \n",
            "9   1568421.00  4000000.0   6190017.00  19689000.0  \n",
            "10  1277375.00  5271862.5   9322612.25  16407500.0  \n",
            "11  2512702.50  5675000.0   9000000.00  22359364.0  \n",
            "12  3000000.00  5439487.0  13475000.00  22970500.0  \n",
            "13  3135000.00  5200000.0  11217391.00  22875000.0  \n",
            "14  1119326.00  2300000.0   4040084.50  13000000.0  \n",
            "15  4512750.00  6280675.5   9103916.25  20000000.0  \n",
            "16   947276.00  2854940.0   4500000.00   7448760.0  \n",
            "17   947276.00  1809826.0   2888735.00   5675000.0  \n",
            "18  3986819.00  6666667.0  12500000.50  25000000.0  \n",
            "19   766179.00  1880638.0   2954500.00   3376000.0  \n",
            "20  1732799.25  2517872.5   3302945.75   4088019.0  \n",
            "21  2750375.00  5250000.0   6875000.00   8500000.0  \n",
            "\n",
            "[22 rows x 25 columns]\n"
          ]
        }
      ]
    },
    {
      "cell_type": "markdown",
      "source": [
        "# Done"
      ],
      "metadata": {
        "id": "_eFD9CAj_p9x"
      }
    }
  ]
}